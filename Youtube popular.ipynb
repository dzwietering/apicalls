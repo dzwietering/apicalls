{
    "metadata": {
        "language_info": {
            "codemirror_mode": {
                "name": "ipython", 
                "version": 2
            }, 
            "file_extension": ".py", 
            "pygments_lexer": "ipython2", 
            "name": "python", 
            "mimetype": "text/x-python", 
            "nbconvert_exporter": "python", 
            "version": "2.7.11"
        }, 
        "kernelspec": {
            "display_name": "Python 2 with Spark 2.0", 
            "name": "python2-spark20", 
            "language": "python"
        }
    }, 
    "nbformat": 4, 
    "cells": [
        {
            "source": "#Import the modules\nimport requests\nimport json", 
            "metadata": {
                "collapsed": true
            }, 
            "execution_count": 1, 
            "cell_type": "code", 
            "outputs": []
        }, 
        {
            "source": "# Get the feed\nr = requests.get(\"http://gdata.youtube.com/feeds/api/standardfeeds/top_rated?v=2&alt=jsonc\")\nr.text", 
            "metadata": {
                "collapsed": false
            }, 
            "execution_count": 2, 
            "cell_type": "code", 
            "outputs": [
                {
                    "data": {
                        "text/plain": "u'{\"apiVersion\":\"2.1\",\"error\":{\"code\":410,\"message\":\"No longer available\",\"errors\":[{\"domain\":\"GData\",\"code\":\"NoLongerAvailableException\",\"internalReason\":\"No longer available\"}]}}'"
                    }, 
                    "metadata": {}, 
                    "execution_count": 2, 
                    "output_type": "execute_result"
                }
            ]
        }, 
        {
            "source": "# Convert it to a Python dictionary\ndata = json.loads(r.text)", 
            "metadata": {
                "collapsed": true
            }, 
            "execution_count": 3, 
            "cell_type": "code", 
            "outputs": []
        }, 
        {
            "source": "# Loop through the result.\nfor item in data['data']['items']:\n\n    print \"Video Title: %s\" % (item['title'])\n\n    print \"Video Category: %s\" % (item['category'])\n\n    print \"Video ID: %s\" % (item['id'])\n\n    print \"Video Rating: %f\" % (item['rating'])\n\n    print \"Embed URL: %s\" % (item['player']['default'])\n\n    print", 
            "metadata": {
                "collapsed": false
            }, 
            "execution_count": 4, 
            "cell_type": "code", 
            "outputs": [
                {
                    "ename": "KeyError", 
                    "output_type": "error", 
                    "evalue": "'data'", 
                    "traceback": [
                        "\u001b[1;31m\u001b[0m", 
                        "\u001b[1;31mKeyError\u001b[0mTraceback (most recent call last)", 
                        "\u001b[1;32m<ipython-input-4-2926993719fa>\u001b[0m in \u001b[0;36m<module>\u001b[1;34m()\u001b[0m\n\u001b[0;32m      1\u001b[0m \u001b[1;31m# Loop through the result.\u001b[0m\u001b[1;33m\u001b[0m\u001b[1;33m\u001b[0m\u001b[0m\n\u001b[1;32m----> 2\u001b[1;33m \u001b[1;32mfor\u001b[0m \u001b[0mitem\u001b[0m \u001b[1;32min\u001b[0m \u001b[0mdata\u001b[0m\u001b[1;33m[\u001b[0m\u001b[1;34m'data'\u001b[0m\u001b[1;33m]\u001b[0m\u001b[1;33m[\u001b[0m\u001b[1;34m'items'\u001b[0m\u001b[1;33m]\u001b[0m\u001b[1;33m:\u001b[0m\u001b[1;33m\u001b[0m\u001b[0m\n\u001b[0m\u001b[0;32m      3\u001b[0m \u001b[1;33m\u001b[0m\u001b[0m\n\u001b[0;32m      4\u001b[0m     \u001b[1;32mprint\u001b[0m \u001b[1;34m\"Video Title: %s\"\u001b[0m \u001b[1;33m%\u001b[0m \u001b[1;33m(\u001b[0m\u001b[0mitem\u001b[0m\u001b[1;33m[\u001b[0m\u001b[1;34m'title'\u001b[0m\u001b[1;33m]\u001b[0m\u001b[1;33m)\u001b[0m\u001b[1;33m\u001b[0m\u001b[0m\n\u001b[0;32m      5\u001b[0m \u001b[1;33m\u001b[0m\u001b[0m\n", 
                        "\u001b[1;31mKeyError\u001b[0m: 'data'"
                    ]
                }
            ]
        }, 
        {
            "source": "", 
            "metadata": {
                "collapsed": true
            }, 
            "execution_count": null, 
            "cell_type": "code", 
            "outputs": []
        }
    ], 
    "nbformat_minor": 0
}